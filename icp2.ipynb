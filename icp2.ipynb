{
  "nbformat": 4,
  "nbformat_minor": 0,
  "metadata": {
    "colab": {
      "provenance": [],
      "authorship_tag": "ABX9TyPdvNohfy7iHXCBcGJTJHfs",
      "include_colab_link": true
    },
    "kernelspec": {
      "name": "python3",
      "display_name": "Python 3"
    },
    "language_info": {
      "name": "python"
    }
  },
  "cells": [
    {
      "cell_type": "markdown",
      "metadata": {
        "id": "view-in-github",
        "colab_type": "text"
      },
      "source": [
        "<a href=\"https://colab.research.google.com/github/ianbennett41430/ICP2/blob/main/icp2.ipynb\" target=\"_parent\"><img src=\"https://colab.research.google.com/assets/colab-badge.svg\" alt=\"Open In Colab\"/></a>"
      ]
    },
    {
      "cell_type": "code",
      "execution_count": null,
      "metadata": {
        "id": "HNDcPkK2FQSn"
      },
      "outputs": [],
      "source": []
    },
    {
      "cell_type": "markdown",
      "source": [
        "Question 1:"
      ],
      "metadata": {
        "id": "qp-tbZwpFTPp"
      }
    },
    {
      "cell_type": "code",
      "source": [
        "from array import *\n",
        "from numpy import *\n",
        "#store array\n",
        "print(\"The original array is:\")\n",
        "ages=([19,22,19,24,20,25,26,24,25,24])\n",
        "print(ages)\n",
        "\n",
        "#sorts array\n",
        "print(\"The sorted array is:\")\n",
        "ages.sort()\n",
        "print(ages)\n",
        "#add min age to list\n",
        "print(\"Adding the min to the list:\")\n",
        "ages.append(ages[1])\n",
        "ages.sort()\n",
        "print(ages)\n",
        "#add max age to list\n",
        "print(\"Adding the max to the list:\")\n",
        "ages.append(ages[len(ages)-1])\n",
        "print(ages)\n",
        "#find list median\n",
        "median = median(ages)\n",
        "print(\"The median is:\", median)\n",
        "#find list average\n",
        "average = average(ages)\n",
        "print(\"The average is:\",average)\n",
        "#finds list range\n",
        "range = ((ages[len(ages)-1])- (ages[1]))\n",
        "print(\"The range is:\",range)"
      ],
      "metadata": {
        "colab": {
          "base_uri": "https://localhost:8080/"
        },
        "id": "ZO5hP2EYFWDk",
        "outputId": "8fe62980-ab7a-458a-b94e-b08fe6042497"
      },
      "execution_count": null,
      "outputs": [
        {
          "output_type": "stream",
          "name": "stdout",
          "text": [
            "The original array is:\n",
            "[19, 22, 19, 24, 20, 25, 26, 24, 25, 24]\n",
            "The sorted array is:\n",
            "[19, 19, 20, 22, 24, 24, 24, 25, 25, 26]\n",
            "Adding the min to the list:\n",
            "[19, 19, 19, 20, 22, 24, 24, 24, 25, 25, 26]\n",
            "Adding the max to the list:\n",
            "[19, 19, 19, 20, 22, 24, 24, 24, 25, 25, 26, 26]\n",
            "The median is: 24.0\n",
            "The average is: 22.75\n",
            "The range is: 7\n"
          ]
        }
      ]
    },
    {
      "cell_type": "markdown",
      "source": [
        "Question 2:"
      ],
      "metadata": {
        "id": "U57rbjM5LBzi"
      }
    },
    {
      "cell_type": "code",
      "source": [
        "#Creates an empty dictionary called dog\n",
        "empty_dog = {}\n",
        "#adds color, breed, legs, and age to the dictionary dog\n",
        "dog = {'color':'black',\n",
        "       'breed':'doberman',\n",
        "       'legs':'3',\n",
        "       'age':'12'\n",
        "       }\n",
        "\n",
        "#adds first_name,last_name,gender,age,marital_status,skills,country,city and address as keys\n",
        "student = {\n",
        "    'first_name' : 'Ian',\n",
        "    'last_name' : 'Bennett',\n",
        "    'gender' : 'male',\n",
        "    'age' : 21,\n",
        "    'marital status' : False,\n",
        "    'skills' : ['Javascript', 'Excel'],\n",
        "    'country' : 'America',\n",
        "    'city' : 'Lees Summit',\n",
        "    'address' : '123 Main'\n",
        "}\n",
        "\n",
        "#gets student dictionary length\n",
        "print(\"The length of the student dictionary is:\", len(student))\n",
        "\n",
        "#gets value of skills and data type\n",
        "print(student['skills'])\n",
        "\n",
        "#gets the data type (list) of the skills attribute\n",
        "print(type(student['skills']))\n",
        "\n",
        "#modifies skills by adding one or two\n",
        "student['skills'].append('Java')\n",
        "print(student['skills'])\n",
        "\n",
        "#gets dictionary keys as a list\n",
        "print(student.keys())\n",
        "\n",
        "#gets dictionary values as a list\n",
        "print(student.values())\n"
      ],
      "metadata": {
        "colab": {
          "base_uri": "https://localhost:8080/"
        },
        "id": "jA5Af5lELD5z",
        "outputId": "2d8b323c-2e10-4d8b-9627-54c784d5d645"
      },
      "execution_count": null,
      "outputs": [
        {
          "output_type": "stream",
          "name": "stdout",
          "text": [
            "The length of the student dictionary is: 9\n",
            "['Javascript', 'Excel']\n",
            "<class 'list'>\n",
            "['Javascript', 'Excel', 'Java']\n",
            "dict_keys(['first_name', 'last_name', 'gender', 'age', 'marital status', 'skills', 'country', 'city', 'address'])\n",
            "dict_values(['Ian', 'Bennett', 'male', 21, False, ['Javascript', 'Excel', 'Java'], 'America', 'Lees Summit', '123 Main'])\n"
          ]
        }
      ]
    },
    {
      "cell_type": "markdown",
      "source": [
        "Question 3:"
      ],
      "metadata": {
        "id": "_TgACyT1U6Or"
      }
    },
    {
      "cell_type": "code",
      "source": [
        "it_companies = {'Facebook', 'Google', 'Microsoft', 'Apple', 'IBM', 'Oracle', 'Amazon'}\n",
        "A = {19, 22, 24, 20, 25, 26}\n",
        "B = {19, 22, 20, 25, 26, 24, 28, 27}\n",
        "age = [22, 19, 24, 25, 26, 24, 25, 24]\n",
        "\n",
        "#Find the length of it_companies\n",
        "print(\"The length of the it_companies list is:\",len(it_companies))\n",
        "\n",
        "#Adds Twitter to it_companies\n",
        "it_companies.add('Twitter')\n",
        "print(\"The list with Twitter is:\",it_companies)\n",
        "\n",
        "#Removes Google from the list\n",
        "it_companies.remove('Google')\n",
        "print(\"The it_companies list without Google is:\",it_companies)\n",
        "\n",
        "#What is the difference between remove and discard\n",
        "print(\"The difference between remove and discard is remove will throw an error if called\",\n",
        "      \"but discard wont\")\n",
        "\n",
        "#Conjoining A and B\n",
        "aAndB = A.union(B)\n",
        "print(\"The list of A an B is:\",aAndB)\n",
        "\n",
        "#Intersection of A and B\n",
        "print(\"The intersection of A and B is:\",A.intersection(B))\n",
        "\n",
        "#Find if A is a subset of B\n",
        "print(\"Is A a subset of B:\", A.issubset(B))\n",
        "\n",
        "#Are A and B disjoint sets\n",
        "print(\"Are A and B a disjointed sets:\", A.isdisjoint(B))\n",
        "\n",
        "#Join A with B and B with A\n",
        "#print(\"The list after A is joined with B\",A.update(B))\n",
        "\n",
        "print(\"The list after B is joined with A\", B.update(A))\n",
        "\n",
        "#The symetric difference between A and B\n",
        "print(\"The symetric difference between A and B is:\", A.symmetric_difference(B))\n",
        "\n",
        "#Deletes sets\n",
        "del A\n",
        "del B\n",
        "del it_companies\n",
        "\n",
        "#Converts ages into set and compare length of the list and set\n",
        "ageSet = set(age)\n",
        "print(\"The set version of age is:\", ageSet)\n",
        "print(\"The set length of age is:\", len(ageSet))\n",
        "print(\"The list length of age is:\",len(age))"
      ],
      "metadata": {
        "colab": {
          "base_uri": "https://localhost:8080/"
        },
        "id": "GBOXv1PhU8KR",
        "outputId": "34615119-c1af-4cbd-9d81-7c0462c6ce60"
      },
      "execution_count": null,
      "outputs": [
        {
          "output_type": "stream",
          "name": "stdout",
          "text": [
            "The length of the it_companies list is: 7\n",
            "The list with Twitter is: {'IBM', 'Google', 'Oracle', 'Twitter', 'Apple', 'Microsoft', 'Facebook', 'Amazon'}\n",
            "The it_companies list without Google is: {'IBM', 'Oracle', 'Twitter', 'Apple', 'Microsoft', 'Facebook', 'Amazon'}\n",
            "The difference between remove and discard is remove will throw an error if called but discard wont\n",
            "The list of A an B is: {19, 20, 22, 24, 25, 26, 27, 28}\n",
            "The intersection of A and B is: {19, 20, 22, 24, 25, 26}\n",
            "Is A a subset of B: True\n",
            "Are A and B a disjointed sets: False\n",
            "The list after B is joined with A None\n",
            "The symetric difference between A and B is: {27, 28}\n",
            "The set version of age is: {19, 22, 24, 25, 26}\n",
            "The set length of age is: 5\n",
            "The list length of age is: 8\n"
          ]
        }
      ]
    },
    {
      "cell_type": "markdown",
      "source": [
        "Question 4:"
      ],
      "metadata": {
        "id": "hqjJ-R6Ct5m3"
      }
    },
    {
      "cell_type": "code",
      "source": [
        "class Employee:\n",
        "  #Creates a data member to count the number of Employees\n",
        "  numEmployees = 0\n",
        "\n",
        "  #Creates a constructor to initialize name, family, salary, department\n",
        "  def __init__(self, name, family, salary, department):\n",
        "        self.__name = name\n",
        "        self.__family = family\n",
        "        self.salary = salary\n",
        "        self.__department = department\n",
        "        Employee.numEmployees += 1\n",
        "\n",
        "  #Creates a function to average salary\n",
        "  @staticmethod\n",
        "  def averageSalary(employees):\n",
        "    numCounter = 0\n",
        "    for employee in employees:\n",
        "      numCounter += employee.salary\n",
        "    return numCounter / Employee.numEmployees\n",
        "\n",
        "#Creates a Fulltime Employee class and it should inherit the properties of Employee class\n",
        "class FulltimeEmployee(Employee):\n",
        "  def __init__(self, name, family_name, salary, department):\n",
        "      print(super().__init__(name, family_name, salary, department))\n",
        "\n",
        "  def full_time_benefits(self):\n",
        "      print(\"Few benefits as full time employee.\")\n",
        "\n",
        "#Creates the instances of Fulltime Employee class and Employee class and call their member functions.\n",
        "class main():\n",
        "     employees = []\n",
        "     e1 = FulltimeEmployee(\"Jeff\", \"Goldstein\", 275000, \"CEO\")\n",
        "     e1.full_time_benefits()\n",
        "     employees.append(e1)\n",
        "     e2 = FulltimeEmployee(\"Steve\", \"Gellar\", 45000, \"Security\")\n",
        "     employees.append(e2)\n",
        "     e3 = Employee(\"Stacy\", \"Miller\", 70000, \"Sales\")\n",
        "     employees.append(e3)\n",
        "     e4 = Employee(\"Rebecca\", \"Oiler\", 120000, \"Aquasitions\")\n",
        "     employees.append(e4)\n",
        "     print(\"Average salary:\", FulltimeEmployee.averageSalary(employees))\n",
        "\n",
        "\n"
      ],
      "metadata": {
        "colab": {
          "base_uri": "https://localhost:8080/"
        },
        "id": "JL6rM3INt8G-",
        "outputId": "e25687d1-35be-45a1-8331-087f2a588287"
      },
      "execution_count": null,
      "outputs": [
        {
          "output_type": "stream",
          "name": "stdout",
          "text": [
            "None\n",
            "Few benefits as full time employee.\n",
            "None\n",
            "Average salary: 127500.0\n"
          ]
        }
      ]
    }
  ]
}